{
 "cells": [
  {
   "cell_type": "markdown",
   "id": "5e2169fa",
   "metadata": {
    "collapsed": false
   },
   "source": [
    "## Двумерные списки"
   ]
  },
  {
   "cell_type": "markdown",
   "id": "24411da1",
   "metadata": {
    "collapsed": false
   },
   "source": [
    "\"Двумерный список\" — это обычный список, элементами которого являются списки. Такой термин удобен для нас, но для Python нет разницы между одномерными и двумерными списками. В частности, нечто такое вообще будет являться промежуточным: `[1, [2, 3, 4], 5]`\n",
    "\n",
    "Создадим список и рассмотрим обращение к элементам."
   ]
  },
  {
   "cell_type": "code",
   "execution_count": null,
   "id": "bdba992b",
   "metadata": {
    "collapsed": false
   },
   "outputs": [],
   "source": [
    "a = [[1, 2, 3], [4, 5, 6]]\n",
    "print(*a)\n",
    "print(a[1])\n",
    "print(a[1][0])\n",
    "print(a[-1][-1])"
   ]
  },
  {
   "cell_type": "code",
   "execution_count": null,
   "id": "29994282",
   "metadata": {
    "collapsed": false
   },
   "outputs": [],
   "source": [
    "for i in range(len(a)):\n",
    "    print(*a[i])"
   ]
  },
  {
   "cell_type": "markdown",
   "id": "b88a9954",
   "metadata": {
    "collapsed": false
   },
   "source": [
    "Для создания списка можем использовать генераторы:"
   ]
  },
  {
   "cell_type": "code",
   "execution_count": null,
   "id": "4a2fb96f",
   "metadata": {
    "collapsed": false
   },
   "outputs": [],
   "source": [
    "a = [[1, 2, 3] for i in range(4)]\n",
    "for i in range(len(a)):\n",
    "    print(*a[i])"
   ]
  },
  {
   "cell_type": "code",
   "execution_count": null,
   "id": "4f287c52",
   "metadata": {
    "collapsed": false
   },
   "outputs": [],
   "source": [
    "a = [[i, i+1, i+2] for i in range(4)]\n",
    "for i in range(len(a)):\n",
    "    print(*a[i])"
   ]
  },
  {
   "cell_type": "code",
   "execution_count": null,
   "id": "f739ed7d",
   "metadata": {
    "collapsed": false
   },
   "outputs": [],
   "source": [
    "for x in a:\n",
    "    print(*x)"
   ]
  },
  {
   "cell_type": "code",
   "execution_count": null,
   "id": "9a48cf74",
   "metadata": {
    "collapsed": false
   },
   "outputs": [],
   "source": [
    "print(a)"
   ]
  },
  {
   "cell_type": "markdown",
   "id": "11dad1dc",
   "metadata": {
    "collapsed": false
   },
   "source": [
    "Вот пример создания списка списков при помощи генератора списка, *вложенного* в генератор списка:"
   ]
  },
  {
   "cell_type": "code",
   "execution_count": null,
   "id": "dead9401",
   "metadata": {
    "collapsed": false
   },
   "outputs": [],
   "source": [
    "a = [[j for j in range(5)] for i in range(5)]\n",
    "for x in a:\n",
    "    print(*x)"
   ]
  },
  {
   "cell_type": "markdown",
   "id": "02e09442",
   "metadata": {
    "collapsed": false
   },
   "source": [
    "**Упражнение:** создайте двумерный список. Заполните его следующим образом: значение элемента - номер его строки."
   ]
  },
  {
   "cell_type": "code",
   "execution_count": 3,
   "id": "18ede4a8",
   "metadata": {
    "collapsed": false
   },
   "outputs": [
    {
     "name": "stdout",
     "output_type": "stream",
     "text": [
      "[[1, 1, 1, 1, 1, 1, 1, 1, 1, 1], [2, 2, 2, 2, 2, 2, 2, 2, 2, 2], [3, 3, 3, 3, 3, 3, 3, 3, 3, 3], [4, 4, 4, 4, 4, 4, 4, 4, 4, 4], [5, 5, 5, 5, 5, 5, 5, 5, 5, 5]]\n"
     ]
    }
   ],
   "source": [
    "rows = 5\n",
    "cols = 10\n",
    "a = [[i + 1 for _ in range(cols)] for i in range(rows)]\n",
    "print(a)"
   ]
  },
  {
   "cell_type": "markdown",
   "id": "16ce173d",
   "metadata": {
    "collapsed": false
   },
   "source": [
    "**Пример.** Напечатаем таблицу умножения $10*10$:"
   ]
  },
  {
   "cell_type": "code",
   "execution_count": null,
   "id": "9b197df4",
   "metadata": {
    "collapsed": false
   },
   "outputs": [],
   "source": [
    "n, m = 10, 10\n",
    "a = [[i * j for j in range(1, m + 1)] for i in range(1, n + 1)]\n",
    "for x in a:\n",
    "    print(*x)"
   ]
  },
  {
   "cell_type": "markdown",
   "id": "7b1d9a77",
   "metadata": {
    "collapsed": false
   },
   "source": [
    "## Тип bool. Оператор in. Еще раз про if."
   ]
  },
  {
   "cell_type": "markdown",
   "id": "e683d3d8",
   "metadata": {
    "collapsed": false
   },
   "source": [
    "Еще один базовый тип данных — это `bool`. Переменные такого типа могут принимать только 2 значения: `True` и `False`."
   ]
  },
  {
   "cell_type": "code",
   "execution_count": null,
   "id": "655cb743",
   "metadata": {
    "collapsed": false
   },
   "outputs": [],
   "source": [
    "print(1 > 0)"
   ]
  },
  {
   "cell_type": "code",
   "execution_count": null,
   "id": "949f364b",
   "metadata": {
    "collapsed": false
   },
   "outputs": [],
   "source": [
    "a = 1 > 0\n",
    "print(a)"
   ]
  },
  {
   "cell_type": "code",
   "execution_count": null,
   "id": "a9d556fc",
   "metadata": {
    "collapsed": false
   },
   "outputs": [],
   "source": [
    "b = 1 < 0\n",
    "print(b)"
   ]
  },
  {
   "cell_type": "code",
   "execution_count": null,
   "id": "62ffde28",
   "metadata": {
    "collapsed": false
   },
   "outputs": [],
   "source": [
    "print(a * 5)\n",
    "print(b * 3)"
   ]
  },
  {
   "cell_type": "markdown",
   "id": "d33283e9",
   "metadata": {
    "collapsed": false
   },
   "source": [
    "Именно тип `bool` используется в каскадной конструкции `if elif ... else`:"
   ]
  },
  {
   "cell_type": "code",
   "execution_count": null,
   "id": "44b85637",
   "metadata": {
    "collapsed": false
   },
   "outputs": [],
   "source": [
    "if 1 > 0:\n",
    "    print(2)"
   ]
  },
  {
   "cell_type": "markdown",
   "id": "ec682419",
   "metadata": {
    "collapsed": false
   },
   "source": [
    "Существует приведение типов. Любое число, отличное от нуля с логической точки зрения — `True`, нуль воспринимается как `False`"
   ]
  },
  {
   "cell_type": "code",
   "execution_count": null,
   "id": "e34f6f82",
   "metadata": {
    "collapsed": false
   },
   "outputs": [],
   "source": [
    "if 5:\n",
    "    print(2)\n",
    "else:\n",
    "    print(\"!\")"
   ]
  },
  {
   "cell_type": "code",
   "execution_count": null,
   "id": "5ca698d5",
   "metadata": {
    "collapsed": false
   },
   "outputs": [],
   "source": [
    "if 0:\n",
    "    print(4)\n",
    "else:\n",
    "    print(\"!\")"
   ]
  },
  {
   "cell_type": "code",
   "execution_count": null,
   "id": "c655994b",
   "metadata": {
    "collapsed": false
   },
   "outputs": [],
   "source": [
    "for i in [1, 2, 3, 4, 5]:\n",
    "    print(i)"
   ]
  },
  {
   "cell_type": "markdown",
   "id": "b92e2643",
   "metadata": {
    "collapsed": false
   },
   "source": [
    "### Оператор `in`\n",
    "Лексема `in` может быть использована не только как часть синтаксической конструкции цикла `for`, но и как *оператор* для проверки принадлежности элемента итерируемому объекту:"
   ]
  },
  {
   "cell_type": "code",
   "execution_count": 4,
   "id": "27cce21b",
   "metadata": {
    "collapsed": false
   },
   "outputs": [
    {
     "name": "stdout",
     "output_type": "stream",
     "text": [
      "True\n",
      "False\n"
     ]
    }
   ],
   "source": [
    "print(4 in [1, 2, 3, 4, 5])\n",
    "print(6 in [1, 2, 3, 4, 5])"
   ]
  },
  {
   "cell_type": "code",
   "execution_count": null,
   "id": "6c1545be",
   "metadata": {
    "collapsed": false
   },
   "outputs": [],
   "source": [
    "print(4 in range(1, 6))\n",
    "print(6 in range(1, 6))"
   ]
  },
  {
   "cell_type": "code",
   "execution_count": null,
   "id": "256067bf",
   "metadata": {
    "collapsed": false
   },
   "outputs": [],
   "source": [
    "print(\"b\" in \"abc\")\n",
    "print(\"B\" in \"abc\")"
   ]
  },
  {
   "cell_type": "markdown",
   "id": "5fb27cad",
   "metadata": {
    "collapsed": false
   },
   "source": [
    "## Функции, возвращающие значение\n",
    "Функции — это вспомогательные алгоритмы. "
   ]
  },
  {
   "cell_type": "markdown",
   "id": "57f88b90",
   "metadata": {
    "collapsed": false
   },
   "source": [
    "###  Логическое значение как результат работы функции\n",
    "Ниже описаны три аналогичных функции. Прочитайте их тела и объясните почему они работают одинаково.\n",
    "Какая из них вам больше нравится?"
   ]
  },
  {
   "cell_type": "code",
   "execution_count": null,
   "id": "ef4f059c",
   "metadata": {
    "collapsed": false
   },
   "outputs": [],
   "source": [
    "def is_positive(x):\n",
    "    if x > 0:\n",
    "        return True\n",
    "    else:\n",
    "        return False\n",
    "    \n",
    "print(is_positive(5))\n",
    "print(is_positive(-5))"
   ]
  },
  {
   "cell_type": "code",
   "execution_count": null,
   "id": "dcdef58f",
   "metadata": {
    "collapsed": false
   },
   "outputs": [],
   "source": [
    "def is_positive(x):\n",
    "    if x > 0:\n",
    "        return True\n",
    "    return False\n",
    "\n",
    "print(is_positive(5))\n",
    "print(is_positive(-5))"
   ]
  },
  {
   "cell_type": "code",
   "execution_count": null,
   "id": "b0431287",
   "metadata": {
    "collapsed": false
   },
   "outputs": [],
   "source": [
    "def is_positive(x):\n",
    "    return x > 0\n",
    "\n",
    "print(is_positive(5))\n",
    "print(is_positive(-5))"
   ]
  },
  {
   "cell_type": "markdown",
   "id": "2c47bf96",
   "metadata": {
    "collapsed": false
   },
   "source": [
    "## Функции как аргументы функций map и filter\n",
    "Для поэлементной обработки любого итерируемого объекта можно использовать функции `map` и `filter`:"
   ]
  },
  {
   "cell_type": "code",
   "execution_count": null,
   "id": "f8670a5b",
   "metadata": {
    "collapsed": false
   },
   "outputs": [],
   "source": [
    "a = \"1 2 -3 4 -5\".split()\n",
    "print(a)\n",
    "a = list(map(int, a))\n",
    "print(a)"
   ]
  },
  {
   "cell_type": "code",
   "execution_count": null,
   "id": "84d9f84c",
   "metadata": {
    "collapsed": false
   },
   "outputs": [],
   "source": [
    "a = \"1 2 -3 4 -5\".split()\n",
    "print(a)\n",
    "a = list(map(float, a))\n",
    "print(a)"
   ]
  },
  {
   "cell_type": "code",
   "execution_count": null,
   "id": "1bcae2a6",
   "metadata": {
    "collapsed": false
   },
   "outputs": [],
   "source": [
    "a = \"1 2 -3 4 -5 0\".split()\n",
    "print(a)\n",
    "a = list(map(bool, a))\n",
    "print(a)"
   ]
  },
  {
   "cell_type": "code",
   "execution_count": null,
   "id": "13a826c6",
   "metadata": {
    "collapsed": false
   },
   "outputs": [],
   "source": [
    "a = \"1 2 -3 4 -5 0\".split()\n",
    "print(a)\n",
    "a = list(map(int, a))\n",
    "print(a)\n",
    "a = list(map(bool, a))\n",
    "print(a)"
   ]
  },
  {
   "cell_type": "markdown",
   "id": "8c28c10b",
   "metadata": {
    "collapsed": false
   },
   "source": [
    "Как параметр для `map` можно передавать не только стандартные функции, но и свои собственные:"
   ]
  },
  {
   "cell_type": "code",
   "execution_count": null,
   "id": "80527cdc",
   "metadata": {
    "collapsed": false
   },
   "outputs": [],
   "source": [
    "def my_function(x):\n",
    "    return x * 2\n",
    "\n",
    "a = \"1 2 -3 4 -5\".split()\n",
    "print(a)\n",
    "a = list(map(my_function, a))\n",
    "print(a)"
   ]
  },
  {
   "cell_type": "markdown",
   "id": "7d192c9d",
   "metadata": {
    "collapsed": false
   },
   "source": [
    "Такие \"одноразовые функции\" загрязняют пространство имён, поэтому есть возможность создать **безымянную функцию** при помощи слова `lambda`. Вычисляясь, лямбда-выражение \"изготавливает\" новую функцию и передаёт её как объект туда, где она нужна — в функцию `map`. Затем она сразу забывается."
   ]
  },
  {
   "cell_type": "code",
   "execution_count": null,
   "id": "ce922e96",
   "metadata": {
    "collapsed": false
   },
   "outputs": [],
   "source": [
    "a = \"1 2 -3 4 -5\".split()\n",
    "print(a)\n",
    "a = list(map(lambda x: x * 2, a))\n",
    "print(a)"
   ]
  },
  {
   "cell_type": "code",
   "execution_count": null,
   "id": "959c6572",
   "metadata": {
    "collapsed": false
   },
   "outputs": [],
   "source": [
    "a = [1, 2, -3, 4, -5]\n",
    "b = list(map(is_positive, a))\n",
    "c = list(filter(is_positive, a))\n",
    "print(b)\n",
    "print(c)"
   ]
  },
  {
   "cell_type": "code",
   "execution_count": null,
   "id": "fd2a87e6",
   "metadata": {
    "collapsed": false
   },
   "outputs": [],
   "source": [
    "a = [1, 2, -3, 4, -5]\n",
    "b = list(map(lambda x: x > 0, a))\n",
    "c = list(filter(lambda x: x > 0, a))\n",
    "print(b)\n",
    "print(c)"
   ]
  },
  {
   "cell_type": "markdown",
   "id": "7313cf30",
   "metadata": {
    "collapsed": false
   },
   "source": [
    "Можем делать \"сложную\" лямбда-функцию:"
   ]
  },
  {
   "cell_type": "code",
   "execution_count": null,
   "id": "bf6a53b0",
   "metadata": {
    "collapsed": false
   },
   "outputs": [],
   "source": [
    "a = \"1 2 -3 4 -5\".split()\n",
    "print(a)\n",
    "a = list(map(lambda x: abs(int(x)), a))\n",
    "print(a)"
   ]
  },
  {
   "cell_type": "markdown",
   "id": "cced2f0d",
   "metadata": {
    "collapsed": false
   },
   "source": [
    "**Упражнение:** считайте список с клавиатуры. С помощью функции `filter` удалите из него те элементы, которые *не* являются квадратами однозначных натуральных чисел."
   ]
  },
  {
   "cell_type": "code",
   "execution_count": 10,
   "id": "470b80f3",
   "metadata": {
    "collapsed": false
   },
   "outputs": [
    {
     "name": "stdout",
     "output_type": "stream",
     "text": [
      "[2, 3, 5]\n"
     ]
    }
   ],
   "source": [
    "sqrs = [1, 4, 9, 16, 25, 36, 49, 64, 81]\n",
    "a = list(filter(lambda x: not(x in sqrs), list(map(int, input().split()))))\n",
    "print(a)"
   ]
  },
  {
   "cell_type": "markdown",
   "id": "07f6cc31",
   "metadata": {
    "collapsed": false
   },
   "source": [
    "Можно использовать `map` для обработки считанного списка. Считываем с помощью функции `input()` объект типа `str`, к нему применяем метод `split()` и получаем `list`, ко всем его элементам функция `map` применяет функцию `int`, а конструктор списка `list` сохраняет результат в список:"
   ]
  },
  {
   "cell_type": "code",
   "execution_count": null,
   "id": "5880334d",
   "metadata": {
    "collapsed": false
   },
   "outputs": [],
   "source": [
    "a = list(map(int, input().split()))\n",
    "print(a)"
   ]
  },
  {
   "cell_type": "code",
   "execution_count": null,
   "id": "513e32ed",
   "metadata": {
    "collapsed": false,
    "scrolled": true
   },
   "outputs": [],
   "source": [
    "a = [list(map(int, input().split())) for i in range(5)]"
   ]
  },
  {
   "cell_type": "code",
   "execution_count": null,
   "id": "2a2fa26e",
   "metadata": {
    "collapsed": false
   },
   "outputs": [],
   "source": [
    "for x in a:\n",
    "    print(*x)"
   ]
  },
  {
   "cell_type": "markdown",
   "id": "8be0994e",
   "metadata": {
    "collapsed": false
   },
   "source": [
    "Пример: удалить из матрицы строки с отрицательной суммой"
   ]
  },
  {
   "cell_type": "code",
   "execution_count": null,
   "id": "4b7291f3",
   "metadata": {
    "collapsed": false
   },
   "outputs": [],
   "source": [
    "a = [[5, -2, 3], [-1, 2, -3], [-8, 4, 5]]\n",
    "for x in a:\n",
    "    print(*x)"
   ]
  },
  {
   "cell_type": "code",
   "execution_count": null,
   "id": "107988bd",
   "metadata": {
    "collapsed": false
   },
   "outputs": [],
   "source": [
    "a = list(filter(lambda x: sum(x) >= 0, a))\n",
    "print(a)"
   ]
  },
  {
   "cell_type": "code",
   "execution_count": null,
   "id": "af8eb227",
   "metadata": {
    "collapsed": false
   },
   "outputs": [],
   "source": [
    "print(sum(a[0]), sum(a[1]))"
   ]
  },
  {
   "cell_type": "markdown",
   "id": "9687cb48",
   "metadata": {
    "collapsed": false
   },
   "source": [
    "И еще примеры:"
   ]
  },
  {
   "cell_type": "code",
   "execution_count": null,
   "id": "a25dae6f",
   "metadata": {
    "collapsed": false
   },
   "outputs": [],
   "source": [
    "a = [1, 2, 3, 4, 5]\n",
    "print(list(map(lambda x: x ** 2, a)))"
   ]
  },
  {
   "cell_type": "code",
   "execution_count": null,
   "id": "7615424a",
   "metadata": {
    "collapsed": false
   },
   "outputs": [],
   "source": [
    "a = [1, 2, -3, 4, -5]\n",
    "print(list(map(lambda x: x if x >= 0 else 0, a)))"
   ]
  },
  {
   "cell_type": "markdown",
   "id": "3f3d2d44",
   "metadata": {
    "collapsed": false
   },
   "source": [
    "## Цикл while. Целочисленная арифметика"
   ]
  },
  {
   "cell_type": "markdown",
   "id": "7feb1357",
   "metadata": {
    "collapsed": false
   },
   "source": [
    "Кроме цикла `for` в Python используется цикл `while`. Например, он удобен, если нужно указать условие выхода через условие типа `bool`"
   ]
  },
  {
   "cell_type": "code",
   "execution_count": null,
   "id": "123b28fb",
   "metadata": {
    "collapsed": false
   },
   "outputs": [],
   "source": [
    "i = 0\n",
    "while i < 5:\n",
    "    print(i ** 2)\n",
    "    i += 1"
   ]
  },
  {
   "cell_type": "code",
   "execution_count": null,
   "id": "5ee7473f",
   "metadata": {
    "collapsed": false
   },
   "outputs": [],
   "source": [
    "for i in range(5):\n",
    "    print(i ** 2)"
   ]
  },
  {
   "cell_type": "markdown",
   "id": "3aa86ea4",
   "metadata": {
    "collapsed": false
   },
   "source": [
    "Еще две арифметические операции, которые потребуются в примере ниже: деление с остатком и целочисленное деление."
   ]
  },
  {
   "cell_type": "code",
   "execution_count": null,
   "id": "69f54375",
   "metadata": {
    "collapsed": false
   },
   "outputs": [],
   "source": [
    "print(16 % 3)\n",
    "print(16 // 3)"
   ]
  },
  {
   "cell_type": "markdown",
   "id": "85197c8d",
   "metadata": {
    "collapsed": false
   },
   "source": [
    "С помощью цикла `while` удобно обращаться к отдельным цифрам числа. Например, можно сохранить их в массив:"
   ]
  },
  {
   "cell_type": "code",
   "execution_count": null,
   "id": "6488a45d",
   "metadata": {
    "collapsed": false
   },
   "outputs": [],
   "source": [
    "a = []\n",
    "n = 2345\n",
    "while n > 0:\n",
    "    a.append(n % 10)\n",
    "    n = n // 10\n",
    "print(a)"
   ]
  },
  {
   "cell_type": "markdown",
   "id": "73cfba6a",
   "metadata": {
    "collapsed": false
   },
   "source": [
    "**Упражнение:** напишите функцию, которая вычисляет сумму цифр числа, считайте число с клавиатуры и примените эту функцию."
   ]
  },
  {
   "cell_type": "code",
   "execution_count": null,
   "id": "91628376",
   "metadata": {
    "collapsed": false
   },
   "outputs": [],
   "source": []
  },
  {
   "cell_type": "markdown",
   "id": "7c9dc0fd",
   "metadata": {
    "collapsed": false
   },
   "source": [
    "Можно запустить \"бесконечный цикл\" (он ничем не отличается от обычного). Внутри циклов можно использовать конструкции `break` и `continue`:"
   ]
  },
  {
   "cell_type": "code",
   "execution_count": null,
   "id": "8794783c",
   "metadata": {
    "collapsed": false
   },
   "outputs": [],
   "source": [
    "while True:\n",
    "    a = int(input())\n",
    "    print(a)"
   ]
  },
  {
   "cell_type": "markdown",
   "id": "254a4a65",
   "metadata": {
    "collapsed": false
   },
   "source": [
    "Для прерывания работы ячейки можно нажать на квадратик."
   ]
  },
  {
   "cell_type": "code",
   "execution_count": null,
   "id": "46735686",
   "metadata": {
    "collapsed": false
   },
   "outputs": [],
   "source": [
    "while True:\n",
    "    a = int(input())\n",
    "    if a > 0:\n",
    "        print(a)\n",
    "    else:\n",
    "        break"
   ]
  },
  {
   "cell_type": "code",
   "execution_count": null,
   "id": "e41787fb",
   "metadata": {
    "collapsed": false
   },
   "outputs": [],
   "source": [
    "while True:\n",
    "    a = int(input())\n",
    "    if a > 0:\n",
    "        continue\n",
    "    else:\n",
    "        break"
   ]
  },
  {
   "cell_type": "markdown",
   "id": "5da20e2f",
   "metadata": {
    "collapsed": false
   },
   "source": [
    "## Работа с файлами"
   ]
  },
  {
   "cell_type": "markdown",
   "id": "84e27eb5",
   "metadata": {
    "collapsed": false
   },
   "source": [
    "Пример: создайте файл input.txt, скопируйте туда таблицу с числами ниже:\n",
    "\n",
    "    1 2 3\n",
    "    4 5 6"
   ]
  },
  {
   "cell_type": "code",
   "execution_count": null,
   "id": "1ade4721",
   "metadata": {
    "collapsed": false
   },
   "outputs": [],
   "source": [
    "with open(\"input.txt\", \"r\") as f:\n",
    "    print(f.read())"
   ]
  },
  {
   "cell_type": "code",
   "execution_count": null,
   "id": "17a0572d",
   "metadata": {
    "collapsed": false
   },
   "outputs": [],
   "source": [
    "with open(\"input.txt\", \"r\") as f:\n",
    "    s = f.read()\n",
    "    print(s)\n",
    "    "
   ]
  },
  {
   "cell_type": "code",
   "execution_count": null,
   "id": "7cb5784c",
   "metadata": {
    "collapsed": false
   },
   "outputs": [],
   "source": [
    "s, type(s)"
   ]
  },
  {
   "cell_type": "markdown",
   "id": "7e855b29",
   "metadata": {
    "collapsed": false
   },
   "source": [
    "Так выглядит внутреннее представление строки `s`. Когда мы вызываем функцию `print` символ переноса строки `\\n` переводит курсор на новую строку:"
   ]
  },
  {
   "cell_type": "code",
   "execution_count": null,
   "id": "4a95cf02",
   "metadata": {
    "collapsed": false
   },
   "outputs": [],
   "source": [
    "print(\"1\\n2\")"
   ]
  },
  {
   "cell_type": "code",
   "execution_count": null,
   "id": "248a5e4f",
   "metadata": {
    "collapsed": false
   },
   "outputs": [],
   "source": [
    "with open(\"input.txt\", \"r\") as f:\n",
    "    a = f.readlines()\n",
    "print(a)"
   ]
  },
  {
   "cell_type": "markdown",
   "id": "45273c92",
   "metadata": {
    "collapsed": false
   },
   "source": [
    "Напомним, что `rstrip()` удаляет пробельные элементы из конца строки, в частности, символ переноса строки"
   ]
  },
  {
   "cell_type": "code",
   "execution_count": null,
   "id": "5fcc6108",
   "metadata": {
    "collapsed": false
   },
   "outputs": [],
   "source": [
    "with open(\"input.txt\", \"r\") as f:\n",
    "    a = f.readlines()\n",
    "    a = list(map(lambda x: x.rstrip(), a))\n",
    "print(a)"
   ]
  },
  {
   "cell_type": "code",
   "execution_count": null,
   "id": "ee6bbeb0",
   "metadata": {
    "collapsed": false
   },
   "outputs": [],
   "source": [
    "with open(\"input.txt\", \"r\") as f:\n",
    "    a = f.readlines()\n",
    "    a = list(map(lambda x: x.rstrip().split(), a))\n",
    "print(a)"
   ]
  },
  {
   "cell_type": "code",
   "execution_count": null,
   "id": "c2625d49",
   "metadata": {
    "collapsed": false
   },
   "outputs": [],
   "source": [
    "with open(\"input.txt\", \"r\") as f:\n",
    "    a = f.readlines()\n",
    "    a = list(map(lambda x: [int(y) for y in x.rstrip().split()], a))\n",
    "print(a)"
   ]
  },
  {
   "cell_type": "markdown",
   "id": "1c2446d3",
   "metadata": {
    "collapsed": false
   },
   "source": [
    "Или проще:"
   ]
  },
  {
   "cell_type": "code",
   "execution_count": null,
   "id": "dba4f550",
   "metadata": {
    "collapsed": false
   },
   "outputs": [],
   "source": [
    "with open(\"input.txt\", \"r\") as f:\n",
    "    a = f.readlines()\n",
    "    a = list(map(lambda x: x.rstrip().split(), a))\n",
    "    for i in range(len(a)):\n",
    "        for j in range(len(a[i])):\n",
    "            a[i][j] = int(a[i][j])\n",
    "print(a)"
   ]
  },
  {
   "cell_type": "markdown",
   "id": "50cd4323",
   "metadata": {
    "collapsed": false
   },
   "source": [
    "**Пример:** в созданный файл запишем вместо чисел, которые там были, новые числа, равные квадратам исходных"
   ]
  },
  {
   "cell_type": "code",
   "execution_count": null,
   "id": "b38bd1b9",
   "metadata": {
    "collapsed": false
   },
   "outputs": [],
   "source": [
    "b = [[a[i][j] ** 2 for j in range(len(a[i]))] for i in range(len(a))]\n",
    "print(b)"
   ]
  },
  {
   "cell_type": "code",
   "execution_count": null,
   "id": "6ca144a2",
   "metadata": {
    "collapsed": false
   },
   "outputs": [],
   "source": [
    "with open(\"output.txt\", \"w\") as f:\n",
    "    f.writelines([\" \".join(x) for x in b])"
   ]
  },
  {
   "cell_type": "code",
   "execution_count": null,
   "id": "82b7feff",
   "metadata": {
    "collapsed": false
   },
   "outputs": [],
   "source": [
    "b = [[str(x) for x in b[i]] for i in range(len(b))]\n",
    "with open(\"output.txt\", \"w\") as f:\n",
    "    f.writelines([\" \".join(x) for x in b])"
   ]
  },
  {
   "cell_type": "markdown",
   "id": "d7798cae",
   "metadata": {
    "collapsed": false
   },
   "source": [
    "Посмотрите, что записалось в файл. Не совсем то, что нужно, не хватает символов переноса строки"
   ]
  },
  {
   "cell_type": "code",
   "execution_count": null,
   "id": "a95188de",
   "metadata": {
    "collapsed": false
   },
   "outputs": [],
   "source": [
    "b = [[str(x) for x in b[i]] for i in range(len(b))]\n",
    "with open(\"output.txt\", \"w\") as f:\n",
    "    f.writelines([\" \".join(x) + \"\\n\" for x in b])"
   ]
  },
  {
   "cell_type": "markdown",
   "id": "648228d0",
   "metadata": {
    "collapsed": false
   },
   "source": [
    "Файлы можно открывать не только на запись, но и на дозапись. Обратите внимание, что в предыдущей ячейке предыдущее сожержимое файла стерлось запуском `open`, для этого используем флажок `a` вместо `w`"
   ]
  },
  {
   "cell_type": "code",
   "execution_count": null,
   "id": "acadb95e",
   "metadata": {
    "collapsed": false
   },
   "outputs": [],
   "source": [
    "b = [[str(x) for x in b[i]] for i in range(len(b))]\n",
    "with open(\"output.txt\", \"a\") as f:\n",
    "    f.write(\"done!\")"
   ]
  },
  {
   "cell_type": "markdown",
   "id": "f9b894ad",
   "metadata": {
    "collapsed": false
   },
   "source": [
    "## Сортировка списков"
   ]
  },
  {
   "cell_type": "markdown",
   "id": "735cd12e",
   "metadata": {
    "collapsed": false
   },
   "source": [
    "Не углубляясь в алгоритмы, разберем, как можно сортировать списки в Python. Для этого есть функции `sort` и `sorted`. Первая изменяет сортируемый объект, вторая создает новый, а исходный остается:"
   ]
  },
  {
   "cell_type": "code",
   "execution_count": null,
   "id": "93cd612d",
   "metadata": {
    "collapsed": false
   },
   "outputs": [],
   "source": [
    "a = [3, 1, 5, 4, 2]\n",
    "a.sort()\n",
    "print(a)"
   ]
  },
  {
   "cell_type": "code",
   "execution_count": null,
   "id": "2886bb09",
   "metadata": {
    "collapsed": false
   },
   "outputs": [],
   "source": [
    "a = [3, 1, 5, 4, 2]\n",
    "print(sorted(a))\n",
    "print(a)"
   ]
  },
  {
   "cell_type": "markdown",
   "id": "35933e8e",
   "metadata": {
    "collapsed": false
   },
   "source": [
    "Но можем использовать вторую вместо первой:"
   ]
  },
  {
   "cell_type": "code",
   "execution_count": null,
   "id": "953f6807",
   "metadata": {
    "collapsed": false
   },
   "outputs": [],
   "source": [
    "a = [3, 1, 5, 4, 2]\n",
    "a = sorted(a)\n",
    "print(a)"
   ]
  },
  {
   "cell_type": "markdown",
   "id": "a4b08cda",
   "metadata": {
    "collapsed": false
   },
   "source": [
    "Сортировка по ключу. key - это второй параметр функции `sorted` и он часто записывает в виде лямбда-функции, которая возвращает функции от объектов, которые мы используем в качестве меры этих объектов для сортировки"
   ]
  },
  {
   "cell_type": "code",
   "execution_count": null,
   "id": "7acaea5d",
   "metadata": {
    "collapsed": false
   },
   "outputs": [],
   "source": [
    "a = [3, 1, 5, 4, 2]\n",
    "a = sorted(a, key = lambda x: -x)\n",
    "print(a)"
   ]
  },
  {
   "cell_type": "code",
   "execution_count": null,
   "id": "999810ba",
   "metadata": {
    "collapsed": false
   },
   "outputs": [],
   "source": [
    "a = [[1, 5], [3, 3], [5, 5], [3, 0]]\n",
    "print(sorted(a, key = lambda x: sum(x)))"
   ]
  },
  {
   "cell_type": "code",
   "execution_count": null,
   "id": "5ea4f6f5",
   "metadata": {
    "collapsed": false
   },
   "outputs": [],
   "source": [
    "a = [[1, 5], [3, 3], [5, 5], [3, 0]]\n",
    "print(sorted(a, key = lambda x: x[0] ** 2 + x[1] ** 2))"
   ]
  },
  {
   "cell_type": "markdown",
   "id": "36ab77a2",
   "metadata": {
    "collapsed": false
   },
   "source": [
    "Можем сортировать по нескольким параметрам в порядке убывания приоритета:"
   ]
  },
  {
   "cell_type": "code",
   "execution_count": null,
   "id": "53845f34",
   "metadata": {
    "collapsed": false
   },
   "outputs": [],
   "source": [
    "a = [[1, 6], [2, 5], [3, 4]]\n",
    "print(sorted(a, key = lambda x: (sum(x), x[1])))"
   ]
  },
  {
   "cell_type": "markdown",
   "id": "7d0ad4e6",
   "metadata": {
    "collapsed": false
   },
   "source": [
    "`(sum(x), x[1])` - это кортеж. Кортежи похожи на списки, но они неизменяемы (нельзя присваивать по индексу и добавлять элементы)"
   ]
  },
  {
   "cell_type": "code",
   "execution_count": null,
   "id": "009d6082",
   "metadata": {
    "collapsed": false
   },
   "outputs": [],
   "source": [
    "a = [1, 2]\n",
    "a[1] = 3\n",
    "print(a)"
   ]
  },
  {
   "cell_type": "code",
   "execution_count": null,
   "id": "435c3f6c",
   "metadata": {
    "collapsed": false
   },
   "outputs": [],
   "source": [
    "a = (1, 2)\n",
    "a[1] = 3\n",
    "print(a)"
   ]
  },
  {
   "cell_type": "code",
   "execution_count": null,
   "id": "96e37c3d",
   "metadata": {
    "collapsed": false
   },
   "outputs": [],
   "source": [
    "a = [1, 2]\n",
    "a.append(3)\n",
    "print(a)"
   ]
  },
  {
   "cell_type": "code",
   "execution_count": null,
   "id": "f5a32233",
   "metadata": {
    "collapsed": false
   },
   "outputs": [],
   "source": [
    "a = (1, 2)\n",
    "a.append(3)\n",
    "print(a)"
   ]
  },
  {
   "cell_type": "code",
   "execution_count": null,
   "id": "1b626f89",
   "metadata": {
    "collapsed": false
   },
   "outputs": [],
   "source": [
    "a = [1, 2]\n",
    "a = [3, 4]\n",
    "print(a)"
   ]
  },
  {
   "cell_type": "code",
   "execution_count": null,
   "id": "0fa7c68a",
   "metadata": {
    "collapsed": false
   },
   "outputs": [],
   "source": [
    "a = (1, 2)\n",
    "a = (3, 4)\n",
    "print(a)"
   ]
  },
  {
   "cell_type": "markdown",
   "id": "7f6bc90e",
   "metadata": {
    "collapsed": false
   },
   "source": [
    "Строки сортируются в лексикографическом порядке:"
   ]
  },
  {
   "cell_type": "code",
   "execution_count": null,
   "id": "7f7b871b",
   "metadata": {
    "collapsed": false
   },
   "outputs": [],
   "source": [
    "a = [\"100\", \"11\", \"12\", \"120\", \"119\"]\n",
    "print(sorted(a))"
   ]
  },
  {
   "cell_type": "code",
   "execution_count": null,
   "id": "7579dcda",
   "metadata": {
    "collapsed": false
   },
   "outputs": [],
   "source": [
    "a = [\"100\", \"11\", \"12\", \"120\", \"119\"]\n",
    "print(sorted(a, key = lambda x: int(x)))"
   ]
  },
  {
   "cell_type": "markdown",
   "id": "e58bbfcc",
   "metadata": {
    "collapsed": false
   },
   "source": [
    "## Снова к файлам"
   ]
  },
  {
   "cell_type": "markdown",
   "id": "c4583973",
   "metadata": {
    "collapsed": false
   },
   "source": [
    "**Пример:** дана таблица результатов олимпиады в формате \"Фамилия Имя Класс Балл\". Нужно скопировать ее в текстовый файл и считать в двумерный массив. Задача - определить фамилию и имя победителя олимпиады. Если их несколько, вывести первого в лексикографическом порядке.\n",
    "\n",
    "Решение: считаем данные в двумерный список. Отсортируем его по убыванию балла и по возрастанию ФИ.\n",
    "\n",
    "Таблица:\n",
    "\n",
    "    Иванов Сергей 9 90\n",
    "    Сергеев Петр 10 85\n",
    "    Петров Иван 11 90"
   ]
  },
  {
   "cell_type": "code",
   "execution_count": null,
   "id": "1295ab84",
   "metadata": {
    "collapsed": false
   },
   "outputs": [],
   "source": [
    "with open(\"input.txt\", \"r\", encoding=\"utf-8\") as f:\n",
    "    a = list(map(lambda x: x.rstrip().split(), f.readlines()))\n",
    "    print(a)"
   ]
  },
  {
   "cell_type": "code",
   "execution_count": null,
   "id": "e102afba",
   "metadata": {
    "collapsed": false
   },
   "outputs": [],
   "source": [
    "print(sorted(a, key = lambda x: (-int(x[3]), x[0], x[1])))"
   ]
  },
  {
   "cell_type": "code",
   "execution_count": null,
   "id": "8c29b96e",
   "metadata": {
    "collapsed": false
   },
   "outputs": [],
   "source": [
    "print(\" \".join(sorted(a, key = lambda x: (-int(x[3]), x[0], x[1]))[0][:2]))"
   ]
  },
  {
   "cell_type": "markdown",
   "id": "c233c0df",
   "metadata": {
    "collapsed": false
   },
   "source": [
    "## Генераторы и отложенные вычисления"
   ]
  },
  {
   "cell_type": "code",
   "execution_count": null,
   "id": "d2c31a60",
   "metadata": {
    "collapsed": false
   },
   "outputs": [],
   "source": [
    "def foo(x):\n",
    "    print(f\"foo called for {x}\")\n",
    "    return x * 10\n",
    "\n",
    "for x in map(foo, [1, 2, 3]):\n",
    "    print(x)"
   ]
  },
  {
   "cell_type": "code",
   "execution_count": null,
   "id": "471d3f6d",
   "metadata": {
    "collapsed": false
   },
   "outputs": [],
   "source": [
    "def foo(x):\n",
    "    print(f\"foo called for {x}\")\n",
    "    return x * 10\n",
    "\n",
    "def boo(x):\n",
    "    print(f\"foo called for {x}\")\n",
    "    return x + 1000\n",
    "\n",
    "A = [1, 2, 3]\n",
    "B = map(foo, A)\n",
    "C = map(boo, B)\n",
    "print(\"Iterations start:\")\n",
    "for x in C:\n",
    "    print(x)"
   ]
  },
  {
   "cell_type": "markdown",
   "id": "b9b2c2a5",
   "metadata": {
    "collapsed": false
   },
   "source": [
    "## Итерируемые объекты"
   ]
  },
  {
   "cell_type": "markdown",
   "id": "28ad489b",
   "metadata": {
    "collapsed": false
   },
   "source": [
    "Часто бывает удобно использовать *распаковку* переменных:"
   ]
  },
  {
   "cell_type": "code",
   "execution_count": null,
   "id": "5dd09d97",
   "metadata": {
    "collapsed": false
   },
   "outputs": [],
   "source": [
    "a, b = 1, 2\n",
    "print(a)\n",
    "print(b)"
   ]
  },
  {
   "cell_type": "code",
   "execution_count": null,
   "id": "f6d9de19",
   "metadata": {
    "collapsed": false
   },
   "outputs": [],
   "source": [
    "a, b, c = [1, 2, 3]\n",
    "print(a)\n",
    "print(b)\n",
    "print(c)"
   ]
  },
  {
   "cell_type": "code",
   "execution_count": null,
   "id": "8a7bc4c0",
   "metadata": {
    "collapsed": false
   },
   "outputs": [],
   "source": [
    "a, b, c = [1, 2, 3, 4, 5]"
   ]
  },
  {
   "cell_type": "code",
   "execution_count": null,
   "id": "824efb53",
   "metadata": {
    "collapsed": false
   },
   "outputs": [],
   "source": [
    "*a, b, c = [1, 2, 3, 4, 5]\n",
    "print(a, b, c)"
   ]
  },
  {
   "cell_type": "code",
   "execution_count": null,
   "id": "6bae667a",
   "metadata": {
    "collapsed": false
   },
   "outputs": [],
   "source": [
    "a, *b, c = [1, 2, 3, 4, 5]\n",
    "print(a, b, c)"
   ]
  },
  {
   "cell_type": "code",
   "execution_count": null,
   "id": "b59f365f",
   "metadata": {
    "collapsed": false
   },
   "outputs": [],
   "source": [
    "a, b, *c = [1, 2, 3, 4, 5]\n",
    "print(a, b, c)"
   ]
  },
  {
   "cell_type": "code",
   "execution_count": null,
   "id": "207af4f8",
   "metadata": {
    "collapsed": false
   },
   "outputs": [],
   "source": [
    "for a, b, c in [(1, 2, 3), (4, 5, 6), (7, 8, 9)]:\n",
    "    print(a, b, c)"
   ]
  },
  {
   "cell_type": "code",
   "execution_count": null,
   "id": "5f2be0ff",
   "metadata": {
    "collapsed": false
   },
   "outputs": [],
   "source": [
    "for a, *b in [(1, 2, 3, 4), (10, 20), (100, 200, 300)]:\n",
    "    print(a, b)"
   ]
  },
  {
   "cell_type": "code",
   "execution_count": null,
   "id": "866f2440",
   "metadata": {
    "collapsed": false
   },
   "outputs": [],
   "source": [
    "a, (b, c) = [1, (2, 3)]\n",
    "print(a, b, c)"
   ]
  },
  {
   "cell_type": "markdown",
   "id": "765afc8a",
   "metadata": {
    "collapsed": false
   },
   "source": [
    "### enumerate, zip, for с распаковкой "
   ]
  },
  {
   "cell_type": "markdown",
   "id": "5fa29a5a",
   "metadata": {
    "collapsed": false
   },
   "source": [
    "В цикле `for` также можно использовать распаковку:"
   ]
  },
  {
   "cell_type": "code",
   "execution_count": null,
   "id": "e3e3cb71",
   "metadata": {
    "collapsed": false
   },
   "outputs": [],
   "source": [
    "a = [[1, 2], [3, 4], [5, 6]]\n",
    "for x, y in a:\n",
    "    print(x, y, x + y)"
   ]
  },
  {
   "cell_type": "markdown",
   "id": "2bb6559b",
   "metadata": {
    "collapsed": false
   },
   "source": [
    "Часто такая распаковка используется не сама по себе, а вместе с использованием удобных функций `zip` и `enumerate`, которые позволяют удобнее работать со списками:"
   ]
  },
  {
   "cell_type": "code",
   "execution_count": 24,
   "id": "d35a510a",
   "metadata": {
    "collapsed": false
   },
   "outputs": [
    {
     "name": "stdout",
     "output_type": "stream",
     "text": [
      "0 [1, 2, 3] 6\n",
      "1 [4, 5, 6] 15\n",
      "2 [7, 8, 9] 24\n",
      "3 [0, 0, 0] 0\n"
     ]
    }
   ],
   "source": [
    "a = [[1, 2, 3], [4, 5, 6], [7, 8, 9], [0, 0, 0]]\n",
    "for i, x in enumerate(a):\n",
    "    print(i, x, sum(x))"
   ]
  },
  {
   "cell_type": "code",
   "execution_count": 12,
   "id": "70889557",
   "metadata": {
    "collapsed": false
   },
   "outputs": [
    {
     "name": "stdout",
     "output_type": "stream",
     "text": [
      "dog\n",
      "cat\n",
      "mouse\n",
      "duck\n",
      "goose\n"
     ]
    }
   ],
   "source": [
    "with open(\"1.txt\", \"w\") as f:\n",
    "    f.writelines([word + \"\\n\" for word in [\"dog\", \"cat\", \"mouse\", \"duck\", \"goose\"]])\n",
    "for line in open(\"1.txt\"):\n",
    "    print(line.strip())"
   ]
  },
  {
   "cell_type": "code",
   "execution_count": 11,
   "id": "a34d5858",
   "metadata": {
    "collapsed": false,
    "scrolled": true
   },
   "outputs": [
    {
     "ename": "FileNotFoundError",
     "evalue": "[Errno 2] No such file or directory: '1.txt'",
     "output_type": "error",
     "traceback": [
      "\u001b[0;31m---------------------------------------------------------------------------\u001b[0m",
      "\u001b[0;31mFileNotFoundError\u001b[0m                         Traceback (most recent call last)",
      "Input \u001b[0;32mIn [11]\u001b[0m, in \u001b[0;36m<cell line: 1>\u001b[0;34m()\u001b[0m\n\u001b[0;32m----> 1\u001b[0m \u001b[38;5;28;01mfor\u001b[39;00m i, x \u001b[38;5;129;01min\u001b[39;00m \u001b[38;5;28menumerate\u001b[39m(\u001b[38;5;28mopen\u001b[39m(\u001b[38;5;124m\"\u001b[39m\u001b[38;5;124m1.txt\u001b[39m\u001b[38;5;124m\"\u001b[39m)):\n\u001b[1;32m      2\u001b[0m     \u001b[38;5;28mprint\u001b[39m(i, x\u001b[38;5;241m.\u001b[39mrstrip())\n",
      "\u001b[0;31mFileNotFoundError\u001b[0m: [Errno 2] No such file or directory: '1.txt'"
     ]
    }
   ],
   "source": [
    "for i, x in enumerate(open(\"1.txt\")):\n",
    "    print(i, x.rstrip())"
   ]
  },
  {
   "cell_type": "code",
   "execution_count": 2,
   "id": "5f28d35c",
   "metadata": {
    "collapsed": false
   },
   "outputs": [
    {
     "name": "stdout",
     "output_type": "stream",
     "text": [
      "[('ab', 1), ('cd', 2), ('ef', 3)]\n"
     ]
    }
   ],
   "source": [
    "a = [\"ab\", \"cd\", \"ef\"]\n",
    "b = [1, 2, 3]\n",
    "print(list(zip(a, b)))"
   ]
  },
  {
   "cell_type": "code",
   "execution_count": 1,
   "id": "8f44fcfd",
   "metadata": {
    "collapsed": false
   },
   "outputs": [
    {
     "name": "stdout",
     "output_type": "stream",
     "text": [
      "a 0\n",
      "b 1\n",
      "c 2\n",
      "d 3\n",
      "e 4\n"
     ]
    }
   ],
   "source": [
    "for a, b in zip(\"abcde\", range(5)):\n",
    "    print(a, b)"
   ]
  },
  {
   "cell_type": "code",
   "execution_count": null,
   "id": "172870c2",
   "metadata": {
    "collapsed": false
   },
   "outputs": [],
   "source": [
    "for a, b in zip(\"abcde\", range(10)):\n",
    "    print(a, b)"
   ]
  },
  {
   "cell_type": "markdown",
   "id": "9b5d74fb",
   "metadata": {
    "collapsed": false
   },
   "source": [
    "## itertools"
   ]
  },
  {
   "cell_type": "markdown",
   "id": "f6fc0268",
   "metadata": {
    "collapsed": false
   },
   "source": [
    "Для более удобной работы с итерируемыми объектами мы можем использовать библиотеку `itertools`. Для этого нужно ее импортировать:"
   ]
  },
  {
   "cell_type": "code",
   "execution_count": 4,
   "id": "40027db1",
   "metadata": {
    "collapsed": false
   },
   "outputs": [],
   "source": [
    "import itertools as it\n"
   ]
  },
  {
   "cell_type": "code",
   "execution_count": null,
   "id": "a2e7b20a",
   "metadata": {
    "collapsed": false
   },
   "outputs": [],
   "source": [
    "for x, y, z in it.permutations(\"ABC\"):\n",
    "    print(x, y, z, sep='')"
   ]
  },
  {
   "cell_type": "code",
   "execution_count": 15,
   "id": "34109753",
   "metadata": {
    "collapsed": false
   },
   "outputs": [
    {
     "name": "stdout",
     "output_type": "stream",
     "text": [
      "ABC ABD ACB ACD ADB ADC BAC BAD BCA BCD BDA BDC CAB CAD CBA CBD CDA CDB DAB DAC DBA DBC DCA DCB "
     ]
    }
   ],
   "source": [
    "for x, y, z in it.permutations(\"ABCD\", 3):\n",
    "    print(x, y, z, sep='', end=' ')"
   ]
  },
  {
   "cell_type": "markdown",
   "id": "860da4be",
   "metadata": {
    "collapsed": false
   },
   "source": [
    "**Упражнение:**\n",
    "Вычислите с помощью `it.permutation` $C_{12}^{5}$"
   ]
  },
  {
   "cell_type": "code",
   "execution_count": 22,
   "id": "b43dcc6b",
   "metadata": {
    "collapsed": false
   },
   "outputs": [
    {
     "name": "stdout",
     "output_type": "stream",
     "text": [
      "792\n"
     ]
    }
   ],
   "source": [
    "import itertools as it\n",
    "\n",
    "n = 12\n",
    "k = 5\n",
    "print(len(list(it.permutations(\" \" * n, k))) // len(list(it.permutations(\" \" * k, k))))"
   ]
  },
  {
   "cell_type": "code",
   "execution_count": null,
   "id": "5b112ac3",
   "metadata": {
    "collapsed": false
   },
   "outputs": [],
   "source": [
    "for x, y in it.combinations(\"ABCDE\", 2):\n",
    "    print(x, y, sep='', end=' ')"
   ]
  },
  {
   "cell_type": "code",
   "execution_count": null,
   "id": "154afae1",
   "metadata": {
    "collapsed": false
   },
   "outputs": [],
   "source": [
    "for x, y in it.combinations_with_replacement(\"ABCDE\", 2):\n",
    "    print(x, y, sep='', end=' ')"
   ]
  },
  {
   "cell_type": "code",
   "execution_count": null,
   "id": "9a7ad207",
   "metadata": {
    "collapsed": false
   },
   "outputs": [],
   "source": [
    "for a in it.chain(\"мама\", \"мыла\", \"раму\"):\n",
    "    print(a, end=' ')"
   ]
  },
  {
   "cell_type": "code",
   "execution_count": null,
   "id": "72c4e409",
   "metadata": {
    "collapsed": false
   },
   "outputs": [],
   "source": [
    "for a in it.chain([5, 4, 3], [3, 4, 5], [[3, 4, 5]]):\n",
    "    print(a, end=' ')"
   ]
  },
  {
   "cell_type": "code",
   "execution_count": 5,
   "id": "950eed61",
   "metadata": {
    "collapsed": false
   },
   "outputs": [
    {
     "name": "stdout",
     "output_type": "stream",
     "text": [
      "w A\n",
      "w B\n",
      "w C\n",
      "x A\n",
      "x B\n",
      "x C\n",
      "y A\n",
      "y B\n",
      "y C\n",
      "z A\n",
      "z B\n",
      "z C\n"
     ]
    }
   ],
   "source": [
    "for n, s in it.product(\"wxyz\", \"ABC\"):\n",
    "    print(n, s)"
   ]
  },
  {
   "cell_type": "markdown",
   "id": "6b925d3f",
   "metadata": {
    "collapsed": false
   },
   "source": [
    "**Упражнение:**\n",
    "Введите 2 списка (координаты вектора `a` и координаты вектора `b`) и найдите скалярное произведение этих векторов, используя `zip` или что-нибудь из `itertools`."
   ]
  },
  {
   "cell_type": "code",
   "execution_count": 9,
   "id": "80086fe0",
   "metadata": {
    "collapsed": false
   },
   "outputs": [
    {
     "name": "stdout",
     "output_type": "stream",
     "text": [
      "32\n"
     ]
    }
   ],
   "source": [
    "a = list(map(int, input().split()))\n",
    "b = list(map(int, input().split()))\n",
    "\n",
    "prod = sum(list(map(lambda x: x[0] * x[1], zip(a, b))))\n",
    "print(prod)"
   ]
  }
 ],
 "metadata": {
  "kernelspec": {
   "argv": [
    "python",
    "-m",
    "ipykernel_launcher",
    "-f",
    "{connection_file}"
   ],
   "display_name": "Python 3 (ipykernel)",
   "env": null,
   "interrupt_mode": "signal",
   "language": "python",
   "metadata": {
    "debugger": false
   },
   "name": "python3"
  },
  "language_info": {
   "codemirror_mode": {
    "name": "ipython",
    "version": 3
   },
   "file_extension": ".py",
   "mimetype": "text/x-python",
   "name": "python",
   "nbconvert_exporter": "python",
   "pygments_lexer": "ipython3",
   "version": "3.9.7"
  },
  "name": "lpr2022_lab2.ipynb"
 },
 "nbformat": 4,
 "nbformat_minor": 5
}
