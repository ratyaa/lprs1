{
 "cells": [
  {
   "cell_type": "markdown",
   "id": "e08cc85f-41c3-47cf-a24b-84e2a19e481b",
   "metadata": {
    "collapsed": false
   },
   "source": [
    "### Аннотация\n",
    "\n",
    "Ноутбук составлен на основе материалов [[1]](https://github.com/SciProgCentre/python-scientific-book/blob/master/pages/StudentEdition/05.ipynb), [[2]](https://github.com/SciProgCentre/python-scientific-book/blob/master/pages/StudentEdition/07.ipynb)"
   ]
  },
  {
   "cell_type": "code",
   "execution_count": 1,
   "id": "dd4928d7-d8fb-48c4-8e3f-7ba08779a7d4",
   "metadata": {
    "collapsed": false
   },
   "outputs": [],
   "source": [
    "from math import sin"
   ]
  },
  {
   "cell_type": "markdown",
   "id": "a0794d54-7c93-4cde-b10d-9545026a16a8",
   "metadata": {
    "collapsed": false
   },
   "source": [
    "# NumPy\n"
   ]
  },
  {
   "cell_type": "markdown",
   "id": "d16466a4-0acb-4c0a-b096-a2525ced1ee1",
   "metadata": {
    "collapsed": false
   },
   "source": [
    "## Создание Numpy массивов"
   ]
  },
  {
   "cell_type": "code",
   "execution_count": 2,
   "id": "538ceed3-6722-492a-ac84-191132605b68",
   "metadata": {
    "collapsed": false
   },
   "outputs": [
    {
     "name": "stdout",
     "output_type": "stream",
     "text": [
      "[1. 2. 3.]\n",
      "\n",
      "[-1. -1. -1. -1. -1. -1. -1. -1. -1. -1.]\n",
      "\n",
      "[[0. 0. 0. 0. 0.]\n",
      " [0. 0. 0. 0. 0.]\n",
      " [0. 0. 0. 0. 0.]]\n",
      "\n",
      "[[[1. 1.]\n",
      "  [1. 1.]]\n",
      "\n",
      " [[1. 1.]\n",
      "  [1. 1.]]]\n",
      "\n",
      "[[1. 0. 0. 0. 0.]\n",
      " [0. 1. 0. 0. 0.]\n",
      " [0. 0. 1. 0. 0.]\n",
      " [0. 0. 0. 1. 0.]\n",
      " [0. 0. 0. 0. 1.]]\n",
      "(3, 5)\n"
     ]
    }
   ],
   "source": [
    "import numpy as np\n",
    "\n",
    "a = np.array([1, 2, 3], float) # Однмемерный массив из списка \n",
    "b = np.repeat(-1. ,10) # Массив полученные повоторением исходного объекта\n",
    "c = np.zeros((3, 5)) # Матрица из нулей размера 3х5\n",
    "d = np.ones((2, 2, 2)) # Трехмерный массив из единиц\n",
    "e = np.eye(5) # Единичная матрица\n",
    "print(a, b, c, d, e, sep='\\n\\n')\n",
    "print(c.shape) # Возвращает размерность массива, для двумерного это количество строк и столбцов"
   ]
  },
  {
   "cell_type": "markdown",
   "id": "7da9ab08-ba5b-46ee-b148-d576356f37fa",
   "metadata": {
    "collapsed": false
   },
   "source": [
    "## Арифметические операции с массивами  и векторизация\n",
    "\n",
    "Полезной особенностью numpy-массивов является так называемая _векторизация_ --- возможность делать быстрые поэлементные операции с массивами без использования цикла `for`."
   ]
  },
  {
   "cell_type": "code",
   "execution_count": 3,
   "id": "ef306021-e843-4cce-bce4-e115ce2c143c",
   "metadata": {
    "collapsed": false
   },
   "outputs": [
    {
     "name": "stdout",
     "output_type": "stream",
     "text": [
      "[6. 4. 9.]\n",
      "[-4.  0. -3.]\n",
      "[ 5.  4. 18.]\n",
      "[5. 1. 2.]\n",
      "[1. 0. 3.]\n",
      "[  5.   4. 216.]\n",
      "[1.         1.41421356 1.73205081]\n",
      "6.0\n",
      "60.0\n",
      "27.0\n",
      "[False False False]\n",
      "[1.         2.         0.33333333]\n"
     ]
    }
   ],
   "source": [
    "a = np.array([1, 2, 3], float)\n",
    "b = np.array([5, 2, 6], float)\n",
    "print(a + b)\n",
    "print(a - b)\n",
    "print(a * b)\n",
    "print(b / a)\n",
    "print(a % b)\n",
    "print(b ** a)\n",
    "print(np.sqrt(a))\n",
    "print(np.sum(a))\n",
    "print(np.prod(b))\n",
    "print(a.dot(b)) # Скалярное произведение\n",
    "print(a > b)\n",
    "print(np.where(a != 2, 1 / a, a))"
   ]
  },
  {
   "cell_type": "markdown",
   "id": "6e52eaa4-a261-4092-be01-7a7232f2591d",
   "metadata": {
    "collapsed": false
   },
   "source": [
    "## Линейная алгебра\n",
    "\n",
    "NumPy также предоставляет набор встроенных функций и методов для работы с линейной алгеброй. Это всё можно найти в под-модуле `linalg`."
   ]
  },
  {
   "cell_type": "code",
   "execution_count": 6,
   "id": "ba7ed276-bd86-41dd-83cf-fff520497181",
   "metadata": {
    "collapsed": false
   },
   "outputs": [
    {
     "name": "stdout",
     "output_type": "stream",
     "text": [
      "[[4. 2. 0.]\n",
      " [9. 3. 7.]\n",
      " [1. 2. 1.]]\n",
      "[[4. 9. 1.]\n",
      " [2. 3. 2.]\n",
      " [0. 7. 1.]]\n",
      "-48.00000000000003\n",
      "[ 8.85591316  1.9391628  -2.79507597]\n",
      "[[-0.3663565  -0.54736745  0.25928158]\n",
      " [-0.88949768  0.5640176  -0.88091903]\n",
      " [-0.27308752  0.61828231  0.39592263]]\n"
     ]
    }
   ],
   "source": [
    "a = np.array([[4, 2, 0], [9, 3, 7], [1, 2, 1]], float)\n",
    "print(a)\n",
    "print(a.T)\n",
    "b = a.T # Транспонированый массив\n",
    "print(np.linalg.det(a)) # Ищем детерминант \n",
    "vals, vecs = np.linalg.eig(a)\n",
    "print(vals)\n",
    "print(vecs)"
   ]
  },
  {
   "cell_type": "code",
   "execution_count": 19,
   "id": "c1745646-a60d-484d-a7b8-6f08906fd0ba",
   "metadata": {
    "collapsed": false
   },
   "outputs": [
    {
     "name": "stdout",
     "output_type": "stream",
     "text": [
      "[2 0 2 2 0 0 2 1 2 2 2 2 0 2 1 0 1 1 1 1 0 0 1 1 0 0 0 2 2 2 1 2 1 1 2 1 2\n",
      " 2 0 2 0 2 2 0 0 2 1 0 1 1 1 0 1 0 1 2 2 0 2 2 1 0 1 1 1 1 1 1 1 0 2 1 1 1\n",
      " 1 1 1 2 2 1 2 0 1 0 0 1 2 0 1 0 0 0 0 2 0 0 0 2 0 0]\n",
      "[[2 0 2 2 0]\n",
      " [0 2 1 2 2]\n",
      " [2 2 0 2 1]\n",
      " [0 1 1 1 1]\n",
      " [0 0 1 1 0]\n",
      " [0 0 2 2 2]\n",
      " [1 2 1 1 2]\n",
      " [1 2 2 0 2]\n",
      " [0 2 2 0 0]\n",
      " [2 1 0 1 1]\n",
      " [1 0 1 0 1]\n",
      " [2 2 0 2 2]\n",
      " [1 0 1 1 1]\n",
      " [1 1 1 1 0]\n",
      " [2 1 1 1 1]\n",
      " [1 1 2 2 1]\n",
      " [2 0 1 0 0]\n",
      " [1 2 0 1 0]\n",
      " [0 0 0 2 0]\n",
      " [0 0 2 0 0]]\n"
     ]
    }
   ],
   "source": [
    "np.random.seed(42)\n",
    "array = np.random.randint(3, size=100)\n",
    "print(array)\n",
    "\n",
    "matrix = array.reshape(20, 5)\n",
    "print(matrix)\n",
    "# print([np.sum(row) for row in matrix])\n",
    "# print([np.sum(row) for row in matrix.T])\n",
    "# print(matrix)\n",
    "# print(matrix[::4, ::4])\n",
    "# print(np.linalg.det(matrix[::, ::]))"
   ]
  },
  {
   "cell_type": "markdown",
   "id": "3aa8bf80-85ca-4887-9ce6-2471d4391761",
   "metadata": {
    "collapsed": false
   },
   "source": [
    "## Операции с индексами \n",
    "Оперативная память компьютера линейна, и поэтому даже многомерные массивы, на самом деле являются некоторыми линейными структурами, над которыми существуют система индексов, говорящих как именно читать этот линейный блок. Проведение операций над индексами в большистве случаев эффективно и поэтому операции смены размерности массива или транспонирования выполняются быстро"
   ]
  },
  {
   "cell_type": "code",
   "execution_count": 6,
   "id": "be609364-534b-4c7e-9c5c-e175550454d1",
   "metadata": {
    "collapsed": false
   },
   "outputs": [
    {
     "name": "stdout",
     "output_type": "stream",
     "text": [
      "[[1 3]\n",
      " [2 4]]\n"
     ]
    }
   ],
   "source": [
    "a = np.asarray([[1, 2], [3, 4]])\n",
    "b = a.T # Транспонированый массив\n",
    "print(b)"
   ]
  },
  {
   "cell_type": "code",
   "execution_count": 7,
   "id": "9235ae3c-5e37-461f-a2e3-bc63c3b02e10",
   "metadata": {
    "collapsed": false
   },
   "outputs": [
    {
     "name": "stdout",
     "output_type": "stream",
     "text": [
      "[[10  3]\n",
      " [ 2  4]]\n"
     ]
    }
   ],
   "source": [
    "b[0, 0] = 10\n",
    "print(b)"
   ]
  },
  {
   "cell_type": "code",
   "execution_count": 8,
   "id": "9ee05924-b503-4860-92fe-32c4c5c1cd41",
   "metadata": {
    "collapsed": false
   },
   "outputs": [
    {
     "name": "stdout",
     "output_type": "stream",
     "text": [
      "[[10  2]\n",
      " [ 3  4]]\n"
     ]
    }
   ],
   "source": [
    "print(a)"
   ]
  },
  {
   "cell_type": "markdown",
   "id": "a5e631ea-18ed-47d5-b31e-0e5dd052c958",
   "metadata": {
    "collapsed": false
   },
   "source": [
    "Как мы видим при изменени переменной `b` изменилась переменная `a`. Это произошло потому, что обе эти переменные использубют один и тот же кусок памяти, но по разному "
   ]
  },
  {
   "cell_type": "markdown",
   "id": "ae3286d6-623e-4579-9c4f-8e345b0a0b44",
   "metadata": {
    "collapsed": false
   },
   "source": [
    "## Срезы\n",
    "\n",
    "В numpy реализован удобный способ работы с элементами матрицы. Он позволяет пройтись по элементам с определенным шагом и в определенном направлении.\n",
    "\n",
    "Пусть у нас есть двумерная матрица. Стоит запомнить следущий синтаксис:\n",
    "- `[:]` -- получить все элементы матрицы\n",
    "- `[:, 0]` -- получить первый столбец матрицы\n",
    "- `[2, :]` -- получить третью строку матрицы\n",
    "- `[-2, :]` -- получить вторую строку матрицы с конца\n",
    "- `[::3, 0]` -- получить каждый третий элемент из первой строки\n",
    "- `[1:-1:3, 0]`-- получить каждый третий элемент первой строки начиная со второго и, возможно, закнчивая предпоследним"
   ]
  },
  {
   "cell_type": "code",
   "execution_count": 9,
   "id": "a3606950-27e7-40ac-b3d7-dc1630cc48d8",
   "metadata": {
    "collapsed": false
   },
   "outputs": [
    {
     "name": "stdout",
     "output_type": "stream",
     "text": [
      "[  0   4   8  12  16  20  24  28  32  36  40  44  48  52  56  60  64  68\n",
      "  72  76  80  84  88  92  96 100 104 108 112 116 120 124 128 132 136 140\n",
      " 144 148 152 156 160 164 168 172 176 180 184 188 192 196 200 204 208 212\n",
      " 216 220 224 228 232 236 240 244 248 252 256 260 264 268 272 276 280 284\n",
      " 288 292 296 300 304 308 312 316 320]\n",
      "\n",
      "(81,)\n",
      "\n",
      "\n",
      "\n",
      "[[  0   4   8  12  16  20  24  28  32]\n",
      " [ 36  40  44  48  52  56  60  64  68]\n",
      " [ 72  76  80  84  88  92  96 100 104]\n",
      " [108 112 116 120 124 128 132 136 140]\n",
      " [144 148 152 156 160 164 168 172 176]\n",
      " [180 184 188 192 196 200 204 208 212]\n",
      " [216 220 224 228 232 236 240 244 248]\n",
      " [252 256 260 264 268 272 276 280 284]\n",
      " [288 292 296 300 304 308 312 316 320]]\n",
      "\n",
      "(9, 9)\n",
      "\n",
      "\n",
      "\n",
      "[[  0   8  16  24  32]\n",
      " [ 72  80  88  96 104]\n",
      " [144 152 160 168 176]\n",
      " [216 224 232 240 248]\n",
      " [288 296 304 312 320]] \n",
      "\n",
      "[[0.  2.4 4.8]\n",
      " [2.4 4.8 7.2]\n",
      " [4.8 7.2 9.6]] \n",
      "\n"
     ]
    }
   ],
   "source": [
    "array = np.array([i for i in range(0, 81*4, 4)])\n",
    "print(array, array.shape, \"\\n\", sep=\"\\n\\n\")\n",
    "\n",
    "matrix = array.reshape(9, 9)\n",
    "print(matrix, matrix.shape, \"\\n\", sep=\"\\n\\n\")\n",
    "\n",
    "print(matrix[::2, ::2], \"\\n\")\n",
    "\n",
    "print((matrix[::3, ::3] + matrix[::3, ::3].T) / 50, \"\\n\")"
   ]
  },
  {
   "cell_type": "markdown",
   "id": "ceada78d-a41b-4cd6-be58-67c65b7e2d10",
   "metadata": {
    "collapsed": false
   },
   "source": [
    "## Чтение даных\n",
    "\n",
    "Numpy также предоставляет функционал для чтения данных, который бывает весьма полезен"
   ]
  },
  {
   "cell_type": "code",
   "execution_count": 10,
   "id": "08c420f1-cdbb-4a3d-9f23-1653c7f310dc",
   "metadata": {
    "collapsed": false
   },
   "outputs": [
    {
     "name": "stdout",
     "output_type": "stream",
     "text": [
      "2 2 3\r\n"
     ]
    }
   ],
   "source": [
    "!cat data/data.txt"
   ]
  },
  {
   "cell_type": "code",
   "execution_count": 11,
   "id": "37aabeb8-ab99-4b87-96f9-500199cbf27e",
   "metadata": {
    "collapsed": false
   },
   "outputs": [
    {
     "data": {
      "text/plain": [
       "array([2., 2., 3.])"
      ]
     },
     "execution_count": 11,
     "metadata": {},
     "output_type": "execute_result"
    }
   ],
   "source": [
    "data = np.loadtxt('./data/data.txt')\n",
    "data"
   ]
  },
  {
   "cell_type": "markdown",
   "id": "cd3d4344-b4af-40e4-9735-c0da59852680",
   "metadata": {
    "collapsed": false
   },
   "source": [
    "## Задание по numpy\n",
    "\n",
    "1. Создайте вектор с элементами от 1 до 99 включительно\n",
    "2. Выведите все значения с шагом 3\n",
    "3. Посчитайте сумму троек элементов из пункта `1`\n",
    "4. Сделайте `reshape` для массива из предыдущего пункта в матрицу размера 11х3\n",
    "5. Транспонируйте матрицу из предыдущего пункта\n",
    "6. Произведите векторное умножение матрицы из предыдущего пункта на вектор размерности 11 из элементов от -9 до 1\n",
    "7. Запишите срез матрицы из пункта `5` в файл `matrix.dat`. Срез должен включать в себя 1, 5, 9 столбцы и 0 и 2 строки. **Подсказка**: требуется вписать элементы матрицы, которая состоит из пересечения соответсвующих столбцов и строк.\n",
    "8. Посчитайте детерминант матрицы, которая содержит в себе строки 2, 5, 8 из матрицы пункта `4`.\n",
    "9. `*`Создайте два вектора длины 10. Элементы первого вектора -- первые 10 простых чисел со знаком минус, второго вектора -- первые 10 чисел последовательности Фибоначчи. Посчитайте скалярное произведение двух векторов. **Указание**: для получения простых чисел и чисел из последовательности Фибоначчи реализуйте функции `prime_number` и `fibonacci_number`.\n",
    "10. `*`Реализуйте функцию вычисления матричной экспоненты\n",
    "$e^X = \\sum\\limits_{k = 0}^{n} \\frac{1}{k!} X^k$, $X^k$ -- матрица $X$ в степени $k$, $X^0 = I$\n",
    "\n",
    "Замечания:\n",
    "- Пункты `*` реализуются по завршению блока заданий на `matplotlib`.\n",
    "- Задания делать внутри следующей ячейки ноутбука. Если работаете в Pycharm, то сохраняйте в файлы `numpy_i.py`, где `i` указывает пункт задания.\n",
    "- Задания, или готовый ноутбук, сохранять в директории (папке) `classwork04`. **Никак иначе диеректорию не называть!**"
   ]
  },
  {
   "cell_type": "code",
   "execution_count": 30,
   "id": "06f7c82b-3402-4204-beb0-acf184e0f88c",
   "metadata": {
    "collapsed": false
   },
   "outputs": [
    {
     "name": "stdout",
     "output_type": "stream",
     "text": [
      "[ 1  4  7 10 13 16 19 22 25 28 31 34 37 40 43 46 49 52 55 58 61 64 67 70\n",
      " 73 76 79 82 85 88 91 94 97] \n",
      "\n",
      "[  6  15  24  33  42  51  60  69  78  87  96 105 114 123 132 141 150 159\n",
      " 168 177 186 195 204 213 222 231 240 249 258 267 276 285 294] \n",
      "\n",
      "[[  6  15  24]\n",
      " [ 33  42  51]\n",
      " [ 60  69  78]\n",
      " [ 87  96 105]\n",
      " [114 123 132]\n",
      " [141 150 159]\n",
      " [168 177 186]\n",
      " [195 204 213]\n",
      " [222 231 240]\n",
      " [249 258 267]\n",
      " [276 285 294]] \n",
      "\n",
      "[[  6  33  60  87 114 141 168 195 222 249 276]\n",
      " [ 15  42  69  96 123 150 177 204 231 258 285]\n",
      " [ 24  51  78 105 132 159 186 213 240 267 294]] \n",
      "\n",
      "[[ -54 -264 -420 -522 -570 -564 -504 -390 -222    0  276]\n",
      " [-135 -336 -483 -576 -615 -600 -531 -408 -231    0  285]\n",
      " [-216 -408 -546 -630 -660 -636 -558 -426 -240    0  294]]\n"
     ]
    }
   ],
   "source": [
    "# Tasks 1-2\n",
    "vector = np.array([i for i in range(1, 100)])\n",
    "thirds = vector[::3]\n",
    "print(thirds, \"\\n\")\n",
    "\n",
    "# Task 3\n",
    "triplet_sums = np.array([np.sum(triplet) for triplet in vector.reshape(33, 3)])\n",
    "print(triplets_sum, \"\\n\")\n",
    "\n",
    "# Tasks 4-5\n",
    "triplet_sums_mat = triplet_sums.reshape(11, 3)\n",
    "print(triplet_sums_mat, \"\\n\")\n",
    "triplet_sums_Tmat = triplet_sums_mat.T\n",
    "print(triplet_sums_Tmat, \"\\n\")\n",
    "\n",
    "# Task 6\n",
    "prod = triplet_sums_Tmat * np.array([i for i in range (-9, 2)])\n",
    "print(prod)\n",
    "\n",
    "# Task 7\n",
    "# rows = np.array([triplet_sums_Tmat[0, :], triplet_sums_Tmat[2, :]])\n",
    "# columns = np.array([triplet_sums_Tmat[:, 1], triplet_sums_Tmat[:, 5], triplet_sums_Tmat[:, 9]])\n"
   ]
  },
  {
   "cell_type": "markdown",
   "id": "005c49b5-b288-40dc-a3ee-a65f59f414ec",
   "metadata": {
    "collapsed": false
   },
   "source": [
    "# Matplotlib"
   ]
  },
  {
   "cell_type": "markdown",
   "id": "fc11a3e8-695b-4fae-995b-49846c555c53",
   "metadata": {
    "collapsed": false
   },
   "source": [
    "# Построение графиков\n",
    "\n",
    "Для построения графиков чаще всего используется `matplotlib.pyplot`. Больше информации можно найти по этим ссылкам:\n",
    "* [Научная графика в python](https://nbviewer.jupyter.org/github/whitehorn/Scientific_graphics_in_python/tree/master/) --- уроки по `matplotlib` на русском языке.\n",
    "* [Галерея  `matplotlib`](https://matplotlib.org/3.1.1/gallery/index.html) --- галерея примеров на официальном сайте `matplotlib`, выбираете нужный вам пример и смотрите как он сделан.\n",
    "\n",
    "Построить график достаточно просто:"
   ]
  },
  {
   "cell_type": "code",
   "execution_count": 5,
   "id": "ce940123-b27c-4bcf-82c7-15145871ad08",
   "metadata": {
    "collapsed": false
   },
   "outputs": [
    {
     "data": {
      "image/png": "[encoded data removed]",
      "text/plain": [
       "<Figure size 432x288 with 1 Axes>"
      ]
     },
     "metadata": {
      "needs_background": "light"
     },
     "output_type": "display_data"
    }
   ],
   "source": [
    "import numpy as np\n",
    "import matplotlib.pyplot as plt\n",
    "%matplotlib inline\n",
    "\n",
    "x = np.linspace(-1, 1, 100)  # Создаем массив из ста точек на промежутке (-1; 1)\n",
    "y = x**3\n",
    "plt.plot(x, y)\n",
    "y2 = np.exp(-x)\n",
    "plt.plot(x, y2)\n",
    "plt.show()"
   ]
  },
  {
   "cell_type": "markdown",
   "id": "b4d3c90f-d654-4f8c-bdf2-2464b71acc48",
   "metadata": {
    "collapsed": false
   },
   "source": [
    "Как вы можете заметить построеный график хорош всем, кромо того обстоятельства что он нарушает все правила оформления графиков для лабораторных работ. Постораемся оформить его. \n",
    "Следующая иллюстрация поможет нам узнать как называются элементы изображения:\n",
    "\n",
    "\n",
    "![](https://matplotlib.org/_images/anatomy.png)\n",
    "\n",
    "\n",
    "Используя поиск по сайту [matplotlib.org](https://matplotlib.org/3.1.1/index.html) можно подробно узнать как настроить тот или иной элемент изображения. А мы приведем краткое описание полезных функции:"
   ]
  },
  {
   "cell_type": "code",
   "execution_count": 13,
   "id": "ae3a4a2f-f92e-4e8c-afaf-fa781263eb0e",
   "metadata": {
    "collapsed": false
   },
   "outputs": [
    {
     "name": "stderr",
     "output_type": "stream",
     "text": [
      "/tmp/ipykernel_27841/594084838.py:34: MatplotlibDeprecationWarning: The 'b' parameter of grid() has been renamed 'visible' since Matplotlib 3.5; support for the old name will be dropped two minor releases later.\n",
      "  plt.grid(b=True, which='major', axis='both', alpha=1)\n",
      "/tmp/ipykernel_27841/594084838.py:35: MatplotlibDeprecationWarning: The 'b' parameter of grid() has been renamed 'visible' since Matplotlib 3.5; support for the old name will be dropped two minor releases later.\n",
      "  plt.grid(b=True, which='minor', axis='both', alpha=0.5)\n"
     ]
    },
    {
     "data": {
      "image/png": "[encoded data removed]",
      "text/plain": [
       "<Figure size 504x504 with 1 Axes>"
      ]
     },
     "metadata": {
      "needs_background": "light"
     },
     "output_type": "display_data"
    }
   ],
   "source": [
    "import numpy as np\n",
    "import matplotlib.pyplot as plt\n",
    "import matplotlib as mpl\n",
    "mpl.rcParams['font.size'] = 16 # Управление стилем, в данном случаем - размером шрифта \n",
    " # Создаем фигуру\n",
    "plt.figure(figsize=(7,7))\n",
    "\n",
    "# Подписываем оси и график\n",
    "plt.title(r\"Это название  графика  $y = x^3$ - да, можно использовать LaTeX:\")\n",
    "plt.ylabel(\"Это ось Y\")\n",
    "plt.xlabel(r\"Это ось X, $F(x) = \\int f(x) dx + C$\")\n",
    "\n",
    "\n",
    "\n",
    "# Добавляем данные\n",
    "x = np.linspace(-1,1,100)\n",
    "y = x**3\n",
    "plt.plot(x,y, label=\"Синия линия\")\n",
    "\n",
    "# Еще данные\n",
    "x2 = x[::10]\n",
    "y2 = np.sin(x2)\n",
    "plt.plot(x2,y2, 'r^', label='Красные треугольники')\n",
    "# 'r^' - задает стиль линии - красные (red) треугольники (^), подробнее в документации\n",
    "\n",
    "# Данные с ошибками\n",
    "mu = np.sin(x2)\n",
    "sigma = np.abs(mu)**0.5\n",
    "y2 = np.random.normal(mu, sigma)\n",
    "# Можно рисовать ошибки\n",
    "plt.errorbar(x2,y2, yerr=sigma, xerr=0.1, fmt='.', label='Кресты') \n",
    "\n",
    "# Активируем сетку\n",
    "plt.grid(b=True, which='major', axis='both', alpha=1)\n",
    "plt.grid(b=True, which='minor', axis='both', alpha=0.5)\n",
    "\n",
    "# Активируем легенду графика\n",
    "plt.legend()\n",
    "# Внимание, запускаете вашу программу как сценарий, то что бы показать график\n",
    "# Используйте эту команду\n",
    "# plt.show()\n",
    "# Сохраняем изображение в текущую директорию\n",
    "plt.savefig('example.png')"
   ]
  },
  {
   "cell_type": "code",
   "execution_count": 14,
   "id": "90457d2f-1922-41f3-bac7-0f0c4cf74d3d",
   "metadata": {
    "collapsed": false
   },
   "outputs": [
    {
     "data": {
      "text/plain": [
       "[<matplotlib.lines.Line2D at 0x7f75e87efbb0>]"
      ]
     },
     "execution_count": 14,
     "metadata": {},
     "output_type": "execute_result"
    },
    {
     "data": {
      "image/png": "[encoded data removed]",
      "text/plain": [
       "<Figure size 432x288 with 1 Axes>"
      ]
     },
     "metadata": {
      "needs_background": "light"
     },
     "output_type": "display_data"
    }
   ],
   "source": [
    "# Логарифмический масштаб по оси x (аналогично для y)\n",
    "plt.xscale('log')\n",
    "plt.yscale('log')\n",
    "# Сетка\n",
    "plt.grid(True)\n",
    "# Добавляем данные\n",
    "x = np.linspace(0,100,100)\n",
    "y = x**3\n",
    "plt.plot(x,y,\"k--\", label=\"Синия линия\") # \"k--\" --- черная прерывистая линия"
   ]
  },
  {
   "cell_type": "code",
   "execution_count": 15,
   "id": "132b538f-05fa-4989-912d-ce04328d4e01",
   "metadata": {
    "collapsed": false
   },
   "outputs": [],
   "source": [
    "plt.xscale??"
   ]
  },
  {
   "cell_type": "markdown",
   "id": "4f8cd4f0-c57f-47e7-8519-b8748e7b02a0",
   "metadata": {
    "collapsed": false
   },
   "source": [
    "## Общие замечания\n",
    "\n",
    "1. Не советуется сильно изменять стандартный размер фигуры, который равен `[6.4, 4.8]`. Тогда не потребуется подстраивать раземер шрифта.\n",
    "2. Попробуйте воспользоваться функцией `plt.tight_layout()`. Она *уберет* лишнее пустое пространство вокруг графика.\n",
    "3. Для передачи *сырых* строк стоит пользоваться `r\"my favorite $\\LaTeX$\"` $\\rightarrow$ my favorite $\\LaTeX$\n",
    "4. Для сохранения графиков можно воспользоваться функцией `plt.savefig()`. По умолчанию возможно сохранять в `.pdf/.jpg/.png` и так далее."
   ]
  },
  {
   "cell_type": "markdown",
   "id": "b0437475-4b54-479e-b5f6-6cd98458080d",
   "metadata": {
    "collapsed": false
   },
   "source": [
    "## Задание matplotlib\n",
    "\n",
    "1. Нарисуйте точками график $\\sin(x) x^{-2}$ для x со значениями от 0 до 100 с шагом 10\n",
    "2. Добавьте сетку и описание осей для предыдущего графика\n",
    "2. Нарисуйте непрерывной прямой график $e^{-x \\sin(x)}$ для x со значениями от 10 до 100\n",
    "3. Добавьте сетку и описание осей для предыдущего графика\n",
    "4. Добавьте мелкую сетку для предыдущего графика (опция `plt.minorticks_on()`\n",
    "5. Нарисуйте точками график $e^{\\sqrt{x} \\sin(x)}$ для x со значениями от 10 до 100\n",
    "6. Нарисуйте график $x \\sin^2(x)$ для x со значениями от 50 до 100\n",
    "7. Сделайте логарифмический масштаб по оси ординат. Отразите этот факт в подписи к оси\n",
    "8. Добавьте легенду точкам и подписи к графику\n",
    "\n",
    "Замечания:\n",
    "- Если указано сделать подпись осей, то нужно добавить подписи к двум осям графика\n",
    "- Если указано ссделать подписи к графику, то нужно добавить оглавление графика, легенду для точек и кривых, подписи к осям\n",
    "- Задания делать внутри следующей ячейки ноутбука. Если работаете в Pycharm, то сохраняйте в файлы `matplotlib_i.py`, где `i` указывает пункт задания.\n",
    "- Задания, или готовый ноутбук, сохранять в директории (папке) `classwork04`. **Никак иначе диеректорию не называть!**"
   ]
  },
  {
   "cell_type": "code",
   "execution_count": null,
   "id": "398695c8-4a99-4fa4-9357-735dcbc169a5",
   "metadata": {
    "collapsed": false
   },
   "outputs": [],
   "source": []
  },
  {
   "cell_type": "markdown",
   "id": "0bec57f5-1a18-4683-afe0-2afd8b9612ed",
   "metadata": {
    "collapsed": false
   },
   "source": [
    "## Data Analysis\n",
    "\n",
    "Функция `fake_data_generator` выдает данные какого-то эксперимента. Но это не беда, ведь мы всегда можем обработать данные!\n",
    "\n",
    "Узнайте свой порядковый номер в группе и с помощью функции `get_numbers` получите свои входные значения для функции `fake_data_generator`.\n",
    "\n",
    "Полученные  экспериентальные данные используйте для нанесения на график. Затем попрбуйте *прикинуть* параметры прямой, которая могла бы проходить через экспериентальные точки.\n",
    "\n",
    "### План действий\n",
    "\n",
    "1. Сгенерируйте свои числа для задачи\n",
    "2. Нанесите точки на график. В качестве ошибок по `x` используйте половину расстояния между соседними точками. Для ошибок по `y` используйте корень квадратный от модуля значения. Добавьте легенду \"DATA\"\n",
    "3. Нанесите сетку на график\n",
    "4. Выделите штрихованную прямую синего цвета, которая выделяет средний уровень точек по оси абсцисс. Добавьте легенду со значением среднего \"mean x = \"\n",
    "5. Выделите штрих-пунктирную прямую красного цвета, которая выделяет средний уровень точек по оси ординат. Добавьте легенду со значением среднего \"mean y = \"\n",
    "6. Нарисуйте черным цветом прямую, которая примерно описывает данные на графике. Добавьте легенду \"fit\"\n",
    "7. Точки пересечения подгоночной кривой и средних значений выделить синим цветом\n",
    "8. Добавить описание для оси абсцисс $\\xi, cm\\rightarrow$ `$\\xi, cm$`\n",
    "9. Добавить описание для оси ординат $\\rho, mm^{-3}\\rightarrow$`$\\rho, mm^{-3}$`\n",
    "10. Легенду разместите в правом нижнем углу или же в верхнем правом"
   ]
  },
  {
   "cell_type": "code",
   "execution_count": 16,
   "id": "ec39c374-7791-4bdf-a144-8a2941085c3d",
   "metadata": {
    "collapsed": false
   },
   "outputs": [],
   "source": [
    "import matplotlib\n",
    "from matplotlib import pyplot as plt\n",
    "\n",
    "matplotlib.rcParams.update(matplotlib.rcParamsDefault)\n",
    "\n",
    "\n",
    "def get_numbers(student):\n",
    "    return student, (student + 4) % 5 + 3, student % 2 * 10 + 12, (student % 5 * 3 + 7) * 3 \n",
    "\n",
    "def fake_data_generator(seed, vmin=0, vmax=10, size=100):\n",
    "    import numpy as np\n",
    "    np.random.seed(seed)\n",
    "    data = np.random.randint(vmin, vmax, size=20)\n",
    "    mean = data.mean()\n",
    "    std = data.std()\n",
    "    noise = np.random.normal(loc=mean, scale=std**.5, size=size)\n",
    "    fake_x = np.array([-5 + i * 20 / size for i in range(size)])\n",
    "    \n",
    "    linear = lambda x, k=(.5 - np.random.rand()) * 15, b=np.random.rand()*10: k * x + b\n",
    "    linear_data = linear(fake_x)\n",
    "    fake_y = linear_data + noise\n",
    "    return fake_x, fake_y"
   ]
  },
  {
   "cell_type": "code",
   "execution_count": null,
   "id": "19c41a5e-4ef5-41c8-b287-765f71c42e7b",
   "metadata": {
    "collapsed": false
   },
   "outputs": [],
   "source": []
  }
 ],
 "metadata": {
  "kernelspec": {
   "argv": [
    "python",
    "-m",
    "ipykernel_launcher",
    "-f",
    "{connection_file}"
   ],
   "display_name": "Python 3 (ipykernel)",
   "env": null,
   "interrupt_mode": "signal",
   "language": "python",
   "metadata": {
    "debugger": false
   },
   "name": "python3"
  },
  "language_info": {
   "codemirror_mode": {
    "name": "ipython",
    "version": 3
   },
   "file_extension": ".py",
   "mimetype": "text/x-python",
   "name": "python",
   "nbconvert_exporter": "python",
   "pygments_lexer": "ipython3",
   "version": "3.8.10"
  },
  "name": "lpr2022_lab4.ipynb"
 },
 "nbformat": 4,
 "nbformat_minor": 2
}
